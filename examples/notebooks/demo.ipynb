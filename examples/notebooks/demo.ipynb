{
 "cells": [
  {
   "cell_type": "markdown",
   "metadata": {},
   "source": [
    "# Viral Network Simulation Demo\n",
    "\n",
    "This notebook demonstrates the viral network simulation package."
   ]
  },
  {
   "cell_type": "code",
   "execution_count": null,
   "metadata": {},
   "outputs": [],
   "source": [
    "import numpy as np\n",
    "import matplotlib.pyplot as plt\n",
    "from pathlib import Path\n",
    "import sys\n",
    "\n",
    "# Add package to path\n",
    "sys.path.insert(0, str(Path.cwd().parent.parent))\n",
    "\n",
    "from viral_network.config import Config\n",
    "from viral_network.graph_generation import generate_sbm_graph\n",
    "from viral_network.simulate_micro import SimulatorMicro\n",
    "from viral_network.simulate_macro import SimulatorMacro\n",
    "from viral_network.targets import TargetSelector\n",
    "from viral_network.viz import plot_timeseries, plot_cluster_dynamics"
   ]
  },
  {
   "cell_type": "markdown",
   "metadata": {},
   "source": [
    "## 1. Toy Example: Linear Chain\n",
    "\n",
    "Let's start with a simple toy case: a linear chain of 6 nodes."
   ]
  },
  {
   "cell_type": "code",
   "execution_count": null,
   "metadata": {},
   "outputs": [],
   "source": [
    "# Create toy config\n",
    "config_toy = Config.toy_linear_chain()\n",
    "print(f\"Toy config: N={config_toy.N}, K={config_toy.K}, fanout={config_toy.fanout}, p_dropout={config_toy.p_dropout}\")"
   ]
  },
  {
   "cell_type": "code",
   "execution_count": null,
   "metadata": {},
   "outputs": [],
   "source": [
    "# Generate toy graph (linear chain)\n",
    "from scipy import sparse\n",
    "\n",
    "# Create linear chain: 0-1-2-3-4-5\n",
    "rows = [0, 1, 1, 2, 2, 3, 3, 4, 4, 5]\n",
    "cols = [1, 0, 2, 1, 3, 2, 4, 3, 5, 4]\n",
    "adj = sparse.csr_matrix(\n",
    "    (np.ones(len(rows)), (rows, cols)), shape=(6, 6)\n",
    ")\n",
    "\n",
    "# Cluster assignment: 0-2 in cluster 0, 3-5 in cluster 1\n",
    "node_to_cluster = np.array([0, 0, 0, 1, 1, 1])\n",
    "\n",
    "print(f\"Graph: {adj.nnz} edges\")\n",
    "print(f\"Clusters: {np.unique(node_to_cluster)}\")"
   ]
  },
  {
   "cell_type": "code",
   "execution_count": null,
   "metadata": {},
   "outputs": [],
   "source": [
    "# Run micro simulation\n",
    "simulator = SimulatorMicro(adj, node_to_cluster, config_toy)\n",
    "states, metrics = simulator.run(initial_seeds=[0], target_node=5)\n",
    "\n",
    "print(f\"Target reached: {metrics['target_reached']}\")\n",
    "print(f\"Time to reach: {metrics['target_reach_time']}\")\n",
    "print(f\"Final infected: {metrics['final_infected_count']}\")"
   ]
  },
  {
   "cell_type": "code",
   "execution_count": null,
   "metadata": {},
   "outputs": [],
   "source": [
    "# Plot results\n",
    "plot_timeseries(\n",
    "    metrics['times'],\n",
    "    metrics['I_counts'],\n",
    "    metrics['R_counts'],\n",
    "    metrics['cumulative_infected'],\n",
    "    title='Toy Linear Chain Simulation'\n",
    )"
   ]
  },
  {
   "cell_type": "markdown",
   "metadata": {},
   "source": [
    "## 2. Micro-Scale Simulation (N=10,000)\n",
    "\n",
    "Now let's run a larger micro-scale simulation."
   ]
  },
  {
   "cell_type": "code",
   "execution_count": null,
   "metadata": {},
   "outputs": [],
   "source": [
    "# Create micro config\n",
    "config_micro = Config(\n",
    "    mode=\"micro\",\n",
    "    N=10000,\n",
    "    K=10,\n",
    "    avg_degree=50,\n",
    "    fanout=2,\n",
    "    p_dropout=0.15,\n",
    "    max_steps=32,\n",
    "    seed=42,\n",
    ")\n",
    "\n",
    "print(f\"Micro config: N={config_micro.N}, K={config_micro.K}\")"
   ]
  },
  {
   "cell_type": "code",
   "execution_count": null,
   "metadata": {},
   "outputs": [],
   "source": [
    "# Generate SBM graph\n",
    "adj, node_to_cluster, metadata = generate_sbm_graph(\n",
    "    N=config_micro.N,\n",
    "    K=config_micro.K,\n",
    "    avg_degree=config_micro.avg_degree,\n",
    "    seed=config_micro.seed,\n",
    ")\n",
    "\n",
    "print(f\"Graph metadata:\")\n",
    "for key, value in metadata.items():\n",
    "    print(f\"  {key}: {value}\")"
   ]
  },
  {
   "cell_type": "code",
   "execution_count": null,
   "metadata": {},
   "outputs": [],
   "source": [
    "# Run micro simulation\n",
    "simulator = SimulatorMicro(adj, node_to_cluster, config_micro)\n",
    "target_selector = TargetSelector(config_micro, node_to_cluster, simulator.rng)\n",
    "\n",
    "initial_seeds = target_selector.select_initial_seeds()\n",
    "target_node = target_selector.select_target(initial_seeds[0])\n",
    "\n",
    "print(f\"Initial seeds: {initial_seeds}\")\n",
    "print(f\"Target node: {target_node} (cluster {node_to_cluster[target_node]})\")\n",
    "\n",
    "states, metrics = simulator.run(initial_seeds=initial_seeds, target_node=target_node)\n",
    "\n",
    "print(f\"\\nResults:\")\n",
    "print(f\"  Target reached: {metrics['target_reached']}\")\n",
    "print(f\"  Time to reach: {metrics['target_reach_time']}\")\n",
    "print(f\"  Final infected: {metrics['final_infected_count']}\")\n",
    "print(f\"  Max concurrent I: {metrics['max_concurrent_I']}\")\n",
    "print(f\"  Total steps: {metrics['total_steps']}\")"
   ]
  },
  {
   "cell_type": "code",
   "execution_count": null,
   "metadata": {},
   "outputs": [],
   "source": [
    "# Plot results\n",
    "plot_timeseries(\n",
    "    metrics['times'],\n",
    "    metrics['I_counts'],\n",
    "    metrics['R_counts'],\n",
    "    metrics['cumulative_infected'],\n",
    "    title='Micro-Scale Simulation (N=10,000)'\n",
    ")"
   ]
  },
  {
   "cell_type": "markdown",
   "metadata": {},
   "source": [
    "## 3. Macro-Scale Simulation\n",
    "\n",
    "Now let's run a macro-scale simulation with cluster-level dynamics."
   ]
  },
  {
   "cell_type": "code",
   "execution_count": null,
   "metadata": {},
   "outputs": [],
   "source": [
    "# Create macro config\n",
    "config_macro = Config(\n",
    "    mode=\"macro\",\n",
    "    K=20,\n",
    "    avg_degree=100,\n",
    "    fanout=2,\n",
    "    p_dropout=0.2,\n",
    "    max_steps=32,\n",
    "    seed=42,\n",
    ")\n",
    "\n",
    "print(f\"Macro config: K={config_macro.K}\")"
   ]
  },
  {
   "cell_type": "code",
   "execution_count": null,
   "metadata": {},
   "outputs": [],
   "source": [
    "# Create cluster sizes\n",
    "cluster_sizes = np.ones(config_macro.K, dtype=int) * 1000\n",
    "\n",
    "# Run macro simulation\n",
    "simulator = SimulatorMacro(cluster_sizes, config_macro)\n",
    "states, metrics = simulator.run(initial_cluster=0, target_cluster=10)\n",
    "\n",
    "print(f\"Results:\")\n",
    "print(f\"  Target reached: {metrics['target_reached']}\")\n",
    "print(f\"  Time to reach: {metrics['target_reach_time']}\")\n",
    "print(f\"  Final infected: {metrics['final_infected_count']}\")\n",
    "print(f\"  Max concurrent I: {metrics['max_concurrent_I']}\")"
   ]
  },
  {
   "cell_type": "code",
   "execution_count": null,
   "metadata": {},
   "outputs": [],
   "source": [
    "# Plot macro results\n",
    "plot_timeseries(\n",
    "    metrics['times'],\n",
    "    metrics['I_totals'],\n",
    "    metrics['R_totals'],\n",
    "    metrics['cumulative_infected'],\n",
    "    title='Macro-Scale Simulation (K=20)'\n",
    ")"
   ]
  },
  {
   "cell_type": "markdown",
   "metadata": {},
   "source": [
    "## 4. Multiple Runs and Statistics\n",
    "\n",
    "Let's run multiple simulations and collect statistics."
   ]
  },
  {
   "cell_type": "code",
   "execution_count": null,
   "metadata": {},
   "outputs": [],
   "source": [
    "from viral_network.metrics import MetricsCollector\n",
    "\n",
    "# Run multiple macro simulations\n",
    "config_multi = Config(\n",
    "    mode=\"macro\",\n",
    "    K=15,\n",
    "    avg_degree=100,\n",
    "    fanout=2,\n",
    "    p_dropout=0.15,\n",
    "    max_steps=32,\n",
    "    seed=42,\n",
    ")\n",
    "\n",
    "cluster_sizes = np.ones(config_multi.K, dtype=int) * 1000\n",
    "collector = MetricsCollector(cluster_sizes.sum())\n",
    "\n",
    "reach_times = []\n",
    "\n",
    "for run_id in range(50):\n",
    "    simulator = SimulatorMacro(cluster_sizes, config_multi)\n",
    "    states, metrics = simulator.run()\n",
    "    collector.add_run(metrics)\n",
    "    \n",
    "    if metrics['target_reached']:\n",
    "        reach_times.append(metrics['target_reach_time'])\n",
    "\n",
    "# Compute aggregate metrics\n",
    "aggregate = collector.compute_aggregate_metrics()\n",
    "\n",
    "print(f\"Aggregate metrics (50 runs):\")\n",
    "for key, value in aggregate.items():\n",
    "    print(f\"  {key}: {value}\")"
   ]
  },
  {
   "cell_type": "code",
   "execution_count": null,
   "metadata": {},
   "outputs": [],
   "source": [
    "# Plot reach time distribution\n",
    "from viral_network.viz import plot_reach_time_distribution\n",
    "\n",
    "if reach_times:\n",
    "    plot_reach_time_distribution(reach_times, title='Distribution of Time to Reach Target (50 runs)')"
   ]
  }
 ],
 "metadata": {
  "kernelspec": {
   "display_name": "Python 3",
   "language": "python",
   "name": "python3"
  },
  "language_info": {
   "name": "python",
   "version": "3.10.0"
  }
 },
 "nbformat": 4,
 "nbformat_minor": 4
}

